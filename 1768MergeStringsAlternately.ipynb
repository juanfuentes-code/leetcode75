{
 "cells": [
  {
   "cell_type": "markdown",
   "id": "54fcef49",
   "metadata": {},
   "source": [
    "# Merge Strings Alternately\n",
    "\n",
    "Dado dos cadenas `word1` y `word2`, fusiona las cadenas agregando letras en orden alterno, comenzando con `word1`.  \n",
    "Si una cadena es más larga que la otra, agrega las letras adicionales al final de la cadena fusionada.\n",
    "\n",
    "Devuelve la cadena fusionada.\n",
    "\n",
    "---\n",
    "\n",
    "## Ejemplos\n",
    "\n",
    "### Ejemplo 1\n",
    "\n",
    "**Input:**  \n",
    "`word1 = \"abc\"`  \n",
    "`word2 = \"pqr\"`\n",
    "\n",
    "**Output:**  \n",
    "`\"apbqcr\"`\n",
    "\n",
    "**Explicación:**  \n",
    "La cadena fusionada se construye así:\n",
    "\n",
    "| word1 |   | a |   | b |   | c |\n",
    "|-------|---|---|---|---|---|---|\n",
    "| word2 |   | p |   | q |   | r |\n",
    "| merged| a | p | b | q | c | r |\n",
    "\n",
    "---\n",
    "\n",
    "### Ejemplo 2\n",
    "\n",
    "**Input:**  \n",
    "`word1 = \"ab\"`  \n",
    "`word2 = \"pqrs\"`\n",
    "\n",
    "**Output:**  \n",
    "`\"apbqrs\"`\n",
    "\n",
    "**Explicación:**  \n",
    "Como `word2` es más larga, `\"rs\"` se agrega al final.\n",
    "\n",
    "| word1 |   | a |   | b |   |   |   |\n",
    "|-------|---|---|---|---|---|---|---|\n",
    "| word2 |   | p |   | q |   | r | s |\n",
    "| merged| a | p | b | q | r | s |   |\n",
    "\n",
    "---\n",
    "\n",
    "### Ejemplo 3\n",
    "\n",
    "**Input:**  \n",
    "`word1 = \"abcd\"`  \n",
    "`word2 = \"pq\"`\n",
    "\n",
    "**Output:**  \n",
    "`\"apbqcd\"`\n",
    "\n",
    "**Explicación:**  \n",
    "Como `word1` es más larga, `\"cd\"` se agrega al final.\n",
    "\n",
    "| word1 |   | a |   | b |   | c | d |\n",
    "|-------|---|---|---|---|---|---|---|\n",
    "| word2 |   | p |   | q |   |   |   |\n",
    "| merged| a | p | b | q | c | d |   |\n",
    "\n",
    "---\n",
    "\n",
    "## Constraints\n",
    "\n",
    "- `1 <= word1.length, word2.length <= 100`\n",
    "- `word1` y `word2` consisten solo de letras minúsculas del alfabeto inglés."
   ]
  },
  {
   "cell_type": "code",
   "execution_count": 1,
   "id": "69833f6c",
   "metadata": {},
   "outputs": [],
   "source": [
    "def mergeAlternately(word1: str, word2: str) -> str:\n",
    "    \"\"\"\n",
    "    Fusiona dos cadenas alternando sus caracteres, comenzando con word1.\n",
    "    Si una cadena es más larga, sus caracteres restantes se añaden al final.\n",
    "    \n",
    "    Args:\n",
    "        word1: Primera cadena\n",
    "        word2: Segunda cadena\n",
    "        \n",
    "    Returns:\n",
    "        Cadena fusionada alternadamente\n",
    "    \"\"\"\n",
    "    #Se inicializan las variables a utilizar\n",
    "    merged = []\n",
    "    i, j = 0, 0\n",
    "    \n",
    "    # Alternar caracteres mientras ambas cadenas tengan caracteres disponibles\n",
    "    while i < len(word1) and j < len(word2): #Mientras i sea menor que la longitud de la palabra1 y j sea menor que la longitud de la palabra2\n",
    "        #a el arreglo merged se le hará el append de la posicion i y j de las respectivas cadenas\n",
    "        merged.append(word1[i])\n",
    "        merged.append(word2[j])\n",
    "        #Se incrementa el contador de i & j\n",
    "        i += 1\n",
    "        j += 1\n",
    "    \n",
    "    # Agregar caracteres restantes de word1 (si los hay)\n",
    "    merged.append(word1[i:])\n",
    "    \n",
    "    # Agregar caracteres restantes de word2 (si los hay)\n",
    "    merged.append(word2[j:])\n",
    "    \n",
    "    # Unir todos los caracteres en una sola cadena\n",
    "    return ''.join(merged)"
   ]
  },
  {
   "cell_type": "code",
   "execution_count": 2,
   "id": "e19463c6",
   "metadata": {},
   "outputs": [
    {
     "data": {
      "text/plain": [
       "'apbqrs'"
      ]
     },
     "execution_count": 2,
     "metadata": {},
     "output_type": "execute_result"
    }
   ],
   "source": [
    "mergeAlternately(\"ab\",\"pqrs\")"
   ]
  },
  {
   "cell_type": "markdown",
   "id": "1ab9757a",
   "metadata": {},
   "source": []
  }
 ],
 "metadata": {
  "kernelspec": {
   "display_name": "data",
   "language": "python",
   "name": "python3"
  },
  "language_info": {
   "codemirror_mode": {
    "name": "ipython",
    "version": 3
   },
   "file_extension": ".py",
   "mimetype": "text/x-python",
   "name": "python",
   "nbconvert_exporter": "python",
   "pygments_lexer": "ipython3",
   "version": "3.9.6"
  }
 },
 "nbformat": 4,
 "nbformat_minor": 5
}

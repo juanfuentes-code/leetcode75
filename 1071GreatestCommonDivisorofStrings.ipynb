{
 "cells": [
  {
   "cell_type": "markdown",
   "id": "76fb9603",
   "metadata": {},
   "source": [
    "# Greatest Common Divisor of Strings\n",
    "\n",
    "Dadas dos cadenas `str1` y `str2`, se dice que \"`t` divide a `s`\" si y solo si `s` se puede construir concatenando una o más veces la cadena `t` (es decir, `s = t + t + ... + t`).\n",
    "\n",
    "Tu tarea es devolver la cadena más larga `x` tal que `x` divide tanto a `str1` como a `str2`.\n",
    "\n",
    "---\n",
    "\n",
    "## Ejemplos\n",
    "\n",
    "### Ejemplo 1\n",
    "\n",
    "**Input:**  \n",
    "`str1 = \"ABCABC\"`  \n",
    "`str2 = \"ABC\"`\n",
    "\n",
    "**Output:**  \n",
    "`\"ABC\"`\n",
    "\n",
    "---\n",
    "\n",
    "### Ejemplo 2\n",
    "\n",
    "**Input:**  \n",
    "`str1 = \"ABABAB\"`  \n",
    "`str2 = \"ABAB\"`\n",
    "\n",
    "**Output:**  \n",
    "`\"AB\"`\n",
    "\n",
    "---\n",
    "\n",
    "### Ejemplo 3\n",
    "\n",
    "**Input:**  \n",
    "`str1 = \"LEET\"`  \n",
    "`str2 = \"CODE\"`\n",
    "\n",
    "**Output:**  \n",
    "`\"\"` (cadena vacía)\n",
    "\n",
    "---\n",
    "\n",
    "## Constraints\n",
    "\n",
    "- `1 <= str1.length, str2.length <= 1000`\n",
    "- `str1` y `str2` consisten únicamente de letras mayúsculas del alfabeto inglés.\n",
    "\n",
    "---\n",
    "\n",
    "**Nota:**  \n",
    "La cadena devuelta debe ser la más larga posible que divida a ambas cadenas de entrada."
   ]
  },
  {
   "cell_type": "code",
   "execution_count": 10,
   "id": "6fba883b",
   "metadata": {},
   "outputs": [],
   "source": [
    "def gcdOfStrings(self, str1, str2):\n",
    "    \"\"\"\n",
    "    :type str1: str\n",
    "    :type str2: str\n",
    "    :rtype: str\n",
    "    \"\"\"\n",
    "\n",
    "    if str1 + str2 != str2 + str1: #Corroborar que las 2 cadenas tengan elementos en común, si no se retorna \"\"\n",
    "        return \"\"\n",
    "    if str1 == str2: #Si la cadena es igual una es el comun divisor de la otra\n",
    "        return str1\n",
    "\n",
    "    if len(str1) < len(str2): #Verifica si la cadena 1 es la mas grande, en caso de que no, hace un swap de valores\n",
    "        str1, str2 = str2, str1\n",
    "\n",
    "    if str1[:len(str2)] == str2: #Verifica si str2 es un prefijo de str1\n",
    "        return gcdOfStrings('',str1[len(str2):], str2) #De forma recursiva ahora verifica si quitando dicho prefijo (pasando por las validaciones previas)\n",
    "\n",
    "    return \"\""
   ]
  },
  {
   "cell_type": "code",
   "execution_count": 13,
   "id": "768f7e65",
   "metadata": {},
   "outputs": [
    {
     "name": "stdout",
     "output_type": "stream",
     "text": [
      "ABC\n",
      "AB\n",
      "\n"
     ]
    }
   ],
   "source": [
    "print(gcdOfStrings('',\"ABCABC\",\"ABC\"))\n",
    "print(gcdOfStrings('',\"ABABAB\",\"ABAB\"))\n",
    "print(gcdOfStrings('',\"LEET\",\"CODE\"))"
   ]
  },
  {
   "cell_type": "code",
   "execution_count": null,
   "id": "b64a27a8",
   "metadata": {},
   "outputs": [],
   "source": []
  }
 ],
 "metadata": {
  "kernelspec": {
   "display_name": "data",
   "language": "python",
   "name": "python3"
  },
  "language_info": {
   "codemirror_mode": {
    "name": "ipython",
    "version": 3
   },
   "file_extension": ".py",
   "mimetype": "text/x-python",
   "name": "python",
   "nbconvert_exporter": "python",
   "pygments_lexer": "ipython3",
   "version": "3.9.6"
  }
 },
 "nbformat": 4,
 "nbformat_minor": 5
}
